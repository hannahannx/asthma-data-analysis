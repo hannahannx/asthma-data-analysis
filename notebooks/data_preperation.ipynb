{
 "cells": [
  {
   "cell_type": "code",
   "execution_count": null,
   "id": "initial_id",
   "metadata": {
    "collapsed": true
   },
   "outputs": [],
   "source": [
    "# Steps for Data Preparation \n",
    "# Data cleaning - missing values, duplicate values, formatting, headers ,anomalies/outliers \n",
    "# \n"
   ]
  },
  {
   "metadata": {},
   "cell_type": "markdown",
   "source": "Assessing the quality - high quality data set and how does it reflect real life data. It is reliable as it is an open data set which si provided by a creitable source. This is an external data source provided by the data.go.uk of the information of asthma in children and young adults from 2018 - 2019. It is a structured data as it carried out the following characterisics : well orgnaised, table form, and the tables can be related in a database schema. ",
   "id": "88150bd059ec4211"
  },
  {
   "metadata": {},
   "cell_type": "code",
   "outputs": [],
   "execution_count": null,
   "source": "# Data transformation - normalise, Discretize or aggregate , new attributes ",
   "id": "f91b7ba39e728c53"
  },
  {
   "metadata": {},
   "cell_type": "code",
   "outputs": [],
   "execution_count": null,
   "source": "# Data reduction",
   "id": "d69287c806098a1"
  }
 ],
 "metadata": {
  "kernelspec": {
   "display_name": "Python 3",
   "language": "python",
   "name": "python3"
  },
  "language_info": {
   "codemirror_mode": {
    "name": "ipython",
    "version": 2
   },
   "file_extension": ".py",
   "mimetype": "text/x-python",
   "name": "python",
   "nbconvert_exporter": "python",
   "pygments_lexer": "ipython2",
   "version": "2.7.6"
  }
 },
 "nbformat": 4,
 "nbformat_minor": 5
}
